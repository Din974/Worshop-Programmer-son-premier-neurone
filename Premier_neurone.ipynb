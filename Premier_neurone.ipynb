{
 "cells": [
  {
   "cell_type": "markdown",
   "metadata": {},
   "source": [
    "# Program your first neuron"
   ]
  },
  {
   "cell_type": "markdown",
   "metadata": {},
   "source": [
    "## Numpy"
   ]
  },
  {
   "cell_type": "markdown",
   "metadata": {},
   "source": [
    "A numpy array is a grid of values, all of the same type, and is indexed by a tuple of nonnegative integers. The number of dimensions is the rank of the array; the shape of an array is a tuple of integers giving the size of the array along each dimension.\n",
    "\n",
    "We can initialize numpy arrays from nested Python lists, and access elements using square brackets:"
   ]
  },
  {
   "cell_type": "code",
   "execution_count": 1,
   "metadata": {},
   "outputs": [],
   "source": [
    "import numpy as np\n",
    "from util import *"
   ]
  },
  {
   "cell_type": "markdown",
   "metadata": {},
   "source": [
    "Creates a one-dimensional numpy array containing the values:\n",
    "1, 2 and 3 in that order."
   ]
  },
  {
   "cell_type": "code",
   "execution_count": 6,
   "metadata": {},
   "outputs": [
    {
     "name": "stdout",
     "output_type": "stream",
     "text": [
      "SUCCESS\n"
     ]
    }
   ],
   "source": [
    "my_matrix = np.array([1, 2, 3]);\n",
    "create_first_matrix(my_matrix)"
   ]
  },
  {
   "cell_type": "markdown",
   "metadata": {},
   "source": [
    "Expected output:\n",
    "```\n",
    "SUCCESS\n",
    "```"
   ]
  },
  {
   "cell_type": "markdown",
   "metadata": {},
   "source": [
    "Numpy arrays have many methods to display the dimensions of an array:\n",
    "    \n",
    "Display the dimensions of the array **b**"
   ]
  },
  {
   "cell_type": "code",
   "execution_count": 14,
   "metadata": {},
   "outputs": [
    {
     "name": "stdout",
     "output_type": "stream",
     "text": [
      "(2, 5)\n"
     ]
    }
   ],
   "source": [
    "b = my_new_array()\n",
    "print(b.shape)"
   ]
  },
  {
   "cell_type": "markdown",
   "metadata": {},
   "source": [
    "Expected output:\n",
    "```\n",
    "    (2, 5)\n",
    "```"
   ]
  },
  {
   "cell_type": "markdown",
   "metadata": {},
   "source": [
    "We need to be able to create an array filled with random numbers."
   ]
  },
  {
   "cell_type": "markdown",
   "metadata": {},
   "source": [
    "Create a three array a1, a2 and a3 filled with random numbers.\n",
    "\n",
    "**a1** must be of shape **(2, 2)**\n",
    "\n",
    "**a2** must be of shape **(4,4)**\n",
    "\n",
    "**a3** must be of shape **(5,2)**"
   ]
  },
  {
   "cell_type": "code",
   "execution_count": 34,
   "metadata": {},
   "outputs": [
    {
     "name": "stdout",
     "output_type": "stream",
     "text": [
      "SUCCESS\n"
     ]
    }
   ],
   "source": [
    "a1 = np.random.rand(2,2)\n",
    "a2 = np.random.rand(4,4)\n",
    "a3 = np.random.rand(5,2)\n",
    "\n",
    "check_random_matrix(a1, a2, a3)"
   ]
  },
  {
   "cell_type": "markdown",
   "metadata": {},
   "source": [
    "Expected output:\n",
    "```\n",
    "    SUCCESS\n",
    "```"
   ]
  },
  {
   "cell_type": "markdown",
   "metadata": {},
   "source": [
    "Last thing, we will do array multiplications.\n",
    "We like lucky, Numpy does it for us.\n",
    "\n",
    "Create the matrix a4 which is equal to the matrix a3 multiplied by the matrix a1:"
   ]
  },
  {
   "cell_type": "code",
   "execution_count": 35,
   "metadata": {},
   "outputs": [
    {
     "name": "stdout",
     "output_type": "stream",
     "text": [
      "SUCCESS\n"
     ]
    }
   ],
   "source": [
    "a4 = np.matmul(a3, a1)\n",
    "check_mul(a4)"
   ]
  },
  {
   "cell_type": "markdown",
   "metadata": {},
   "source": [
    "Expected output:\n",
    "```\n",
    "    SUCCESS\n",
    "```"
   ]
  },
  {
   "cell_type": "markdown",
   "metadata": {},
   "source": [
    "We need nothing more to start coding our neuron."
   ]
  },
  {
   "cell_type": "markdown",
   "metadata": {},
   "source": [
    "## Program your first neuron"
   ]
  },
  {
   "cell_type": "code",
   "execution_count": 36,
   "metadata": {},
   "outputs": [],
   "source": [
    "import numpy as np\n",
    "import matplotlib.pyplot as plt\n",
    "from sklearn.datasets import make_blobs\n",
    "from sklearn.metrics import accuracy_score"
   ]
  },
  {
   "cell_type": "code",
   "execution_count": 37,
   "metadata": {},
   "outputs": [
    {
     "name": "stdout",
     "output_type": "stream",
     "text": [
      "dimensions de X: (100, 2)\n",
      "dimensions de y: (100, 1)\n"
     ]
    },
    {
     "data": {
      "image/png": "[encoded data removed]",
      "text/plain": [
       "<Figure size 432x288 with 1 Axes>"
      ]
     },
     "metadata": {
      "needs_background": "light"
     },
     "output_type": "display_data"
    }
   ],
   "source": [
    "X, y = make_blobs(n_samples=100, n_features=2, centers=2, random_state=0)\n",
    "y = y.reshape((y.shape[0], 1))\n",
    "\n",
    "print('dimensions de X:', X.shape)\n",
    "print('dimensions de y:', y.shape)\n",
    "\n",
    "plt.scatter(X[:,0], X[:, 1], c=y, cmap='summer')\n",
    "plt.show()"
   ]
  },
  {
   "cell_type": "markdown",
   "metadata": {},
   "source": [
    "As said during the talk, a neuron is a function taking x parameters:\n",
    "\n",
    "x<sub>1</sub>*w<sub>1</sub> + x<sub>2</sub> * w<sub>2</sub> ... + x<sub>n</sub> * w<sub>n</sub> + b.\n",
    "\n",
    "We need to write a function that takes our data and initializes the array **W** and **b**.\n",
    "\n",
    "**W** contains all the values **w**, so it contains as many data as there is variable **x**.\n",
    "\n",
    "\n",
    "\n",
    "\n",
    "\n"
   ]
  },
  {
   "cell_type": "code",
   "execution_count": null,
   "metadata": {},
   "outputs": [],
   "source": [
    "def initialisation(X):\n",
    "    W = \n",
    "    b = \n",
    "    return (W, b)"
   ]
  },
  {
   "cell_type": "markdown",
   "metadata": {},
   "source": [
    "Always test your functions to check the shapes of the matrices or the values returned by your functions.\n",
    "\n",
    "For example here we check the shapes of W and b.\n",
    "(This step will not be repeated afterwards but I encourage you to do it by yourself.)"
   ]
  },
  {
   "cell_type": "markdown",
   "metadata": {},
   "source": [
    "Display the shape of W and b:"
   ]
  },
  {
   "cell_type": "code",
   "execution_count": null,
   "metadata": {},
   "outputs": [],
   "source": [
    "print()\n",
    "print()"
   ]
  },
  {
   "cell_type": "markdown",
   "metadata": {},
   "source": [
    "Expected output:\n",
    "```\n",
    "    (2, 1)\n",
    "    (1,)\n",
    "```"
   ]
  },
  {
   "cell_type": "markdown",
   "metadata": {},
   "source": [
    "We will now create the model of the neuron note:\n",
    "\n",
    "Z = X * W + b\n",
    "\n",
    "A = 1 / (1+e<sup>-Z</sup>)"
   ]
  },
  {
   "cell_type": "code",
   "execution_count": null,
   "metadata": {},
   "outputs": [],
   "source": [
    "def model(X, W, b):\n",
    "    Z = \n",
    "    A = \n",
    "    return A"
   ]
  },
  {
   "cell_type": "markdown",
   "metadata": {},
   "source": [
    "Witch shape have A?"
   ]
  },
  {
   "cell_type": "markdown",
   "metadata": {},
   "source": [
    "I'm writing the log_loss function for you because there's not much point in knowing how it works.\n",
    "\n",
    "Just remember that it allows you to calculate how wrong the model is."
   ]
  },
  {
   "cell_type": "code",
   "execution_count": null,
   "metadata": {},
   "outputs": [],
   "source": [
    "def log_loss(A, y):\n",
    "    return 1 / len(y) * np.sum(-y * np.log(A) - (1 - y) * np.log(1 - A))"
   ]
  },
  {
   "cell_type": "markdown",
   "metadata": {},
   "source": [
    "Now we are going to write the correction function, we have calculated the error now we are going to calculate what to change.\n",
    "We need **dw** defined by:\n",
    "![alt text](./source/dw.png)\n",
    "And **db** defined by:\n",
    "![alt text](./source/db.png)\n",
    "\n",
    " (for **db** you can use np.sum)\n",
    " \n",
    "m = number of label\n",
    "\n",
    "y = label\n"
   ]
  },
  {
   "cell_type": "code",
   "execution_count": null,
   "metadata": {},
   "outputs": [],
   "source": [
    "def gradients(A, X, y):\n",
    "    dW =\n",
    "    db =\n",
    "    return (dW, db)"
   ]
  },
  {
   "cell_type": "markdown",
   "metadata": {},
   "source": [
    "Now we can be update W and b\n",
    "\n",
    "We have: \n",
    "the learning total (at which point the modifications must be taken into account)\n",
    "\n",
    "dw and db = how much w and b must be modified\n",
    "\n",
    "w and b = our two variables to modify"
   ]
  },
  {
   "cell_type": "code",
   "execution_count": null,
   "metadata": {},
   "outputs": [],
   "source": [
    "def update(dW, db, W, b, learning_rate):\n",
    "    W =\n",
    "    b =\n",
    "    return (W, b)"
   ]
  },
  {
   "cell_type": "markdown",
   "metadata": {},
   "source": [
    "We can now call **model** to predict our label (0 or 1)"
   ]
  },
  {
   "cell_type": "code",
   "execution_count": null,
   "metadata": {},
   "outputs": [],
   "source": [
    "def predict(X, W, b):\n",
    "    A = \n",
    "    return A >= 0.5"
   ]
  },
  {
   "cell_type": "markdown",
   "metadata": {},
   "source": [
    "We have all the functions now we can train our neuron:"
   ]
  },
  {
   "cell_type": "code",
   "execution_count": null,
   "metadata": {},
   "outputs": [],
   "source": [
    "def artificial_neuron(X, y, learning_rate = 0.1, n_iter = 100):\n",
    "    # initialisation W, b\n",
    "    W, b = initialisation(X)\n",
    "\n",
    "    Loss = []\n",
    "\n",
    "    # call model\n",
    "    #append to Lost the log_loss result\n",
    "    # calcul dw and db\n",
    "    # update the model\n",
    "    # repeat n_iter time\n",
    "\n",
    "    y_pred = predict(X, W, b)\n",
    "    print(accuracy_score(y, y_pred))\n",
    "\n",
    "    plt.plot(Loss)\n",
    "    plt.show()\n",
    "\n",
    "    return (W, b)"
   ]
  },
  {
   "cell_type": "markdown",
   "metadata": {},
   "source": [
    "Now you can simply call your new neuron and train it.\n",
    "\n",
    "You can see the limit create by your neuron"
   ]
  },
  {
   "cell_type": "code",
   "execution_count": null,
   "metadata": {},
   "outputs": [],
   "source": [
    "fig, ax = plt.subplots(figsize=(9, 6))\n",
    "ax.scatter(X[:,0], X[:, 1], c=y, cmap='summer')\n",
    "\n",
    "x1 = np.linspace(-1, 4, 100)\n",
    "x2 = ( - W[0] * x1 - b) / W[1]\n",
    "\n",
    "ax.plot(x1, x2, c='orange', lw=3)"
   ]
  },
  {
   "cell_type": "markdown",
   "metadata": {},
   "source": [
    "Congrat, your have code your first neuron."
   ]
  },
  {
   "cell_type": "code",
   "execution_count": null,
   "metadata": {},
   "outputs": [],
   "source": []
  }
 ],
 "metadata": {
  "kernelspec": {
   "display_name": "Python 3",
   "language": "python",
   "name": "python3"
  },
  "language_info": {
   "codemirror_mode": {
    "name": "ipython",
    "version": 3
   },
   "file_extension": ".py",
   "mimetype": "text/x-python",
   "name": "python",
   "nbconvert_exporter": "python",
   "pygments_lexer": "ipython3",
   "version": "3.8.10"
  }
 },
 "nbformat": 4,
 "nbformat_minor": 4
}
